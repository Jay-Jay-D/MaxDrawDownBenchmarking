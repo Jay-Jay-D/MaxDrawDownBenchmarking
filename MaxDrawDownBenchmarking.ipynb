{
 "cells": [
  {
   "cell_type": "code",
   "execution_count": 1,
   "metadata": {
    "collapsed": true
   },
   "outputs": [],
   "source": [
    "import pandas as pd\n",
    "import numpy as np\n",
    "from numba import jit, float32, float64"
   ]
  },
  {
   "cell_type": "code",
   "execution_count": 2,
   "metadata": {
    "collapsed": true
   },
   "outputs": [],
   "source": [
    "def mdd(ccr):\n",
    "    r = np.expand_dims(np.exp(ccr.cumsum()), axis=1)\n",
    "    return - np.tril(r.dot(1 / r.T) - 1).min()"
   ]
  },
  {
   "cell_type": "code",
   "execution_count": 3,
   "metadata": {
    "collapsed": false
   },
   "outputs": [],
   "source": [
    "@jit(float32(float32[:]), cache=True)\n",
    "def numba_mdd(ccr):\n",
    "    r = np.expand_dims(np.exp(ccr.cumsum()), axis=1)\n",
    "    return - np.tril(r.dot(1 / r.T) - 1).min()"
   ]
  },
  {
   "cell_type": "code",
   "execution_count": 4,
   "metadata": {
    "collapsed": false
   },
   "outputs": [],
   "source": [
    "def max_dd_loop(returns):\n",
    "    max_so_far = None\n",
    "    r = np.exp(returns.cumsum())\n",
    "    for idx, r_start in enumerate(r):\n",
    "        for r_end in r[idx:]:\n",
    "            current = r_end/r_start - 1\n",
    "            if (max_so_far is None) or (current < max_so_far):\n",
    "                max_so_far = current\n",
    "    return max_so_far"
   ]
  },
  {
   "cell_type": "code",
   "execution_count": 5,
   "metadata": {
    "collapsed": false
   },
   "outputs": [],
   "source": [
    "@jit(float32(float64[:]), cache=True)\n",
    "def numa_max_dd_loop(returns):\n",
    "    max_so_far = None\n",
    "    r = np.exp(returns.cumsum())\n",
    "    for idx, r_start in enumerate(r):\n",
    "        for r_end in r[idx:]:\n",
    "            current = r_end/r_start - 1\n",
    "            if (max_so_far is None) or (current < max_so_far):\n",
    "                max_so_far = current\n",
    "    return -max_so_far"
   ]
  },
  {
   "cell_type": "code",
   "execution_count": 54,
   "metadata": {
    "collapsed": false
   },
   "outputs": [
    {
     "name": "stdout",
     "output_type": "stream",
     "text": [
      "<type 'numpy.ndarray'> (9999L,)\n"
     ]
    }
   ],
   "source": [
    "np.random.seed(123)\n",
    "hdf_file = 'D:/Algorithmic Trading/NEATrader/TrainingDataHDF/ohlcv_data.h5'\n",
    "df = pd.read_hdf(hdf_file, 'minute/AAPL')\n",
    "ccr = np.log(df.ix[:10000, 'Close']).diff().dropna().values\n",
    "#returns.dtype = 'float32'\n",
    "print type(ccr), ccr.shape"
   ]
  },
  {
   "cell_type": "code",
   "execution_count": null,
   "metadata": {
    "collapsed": false
   },
   "outputs": [],
   "source": [
    "#print mdd(ccr), max_dd_loop(ccr)"
   ]
  },
  {
   "cell_type": "code",
   "execution_count": null,
   "metadata": {
    "collapsed": false
   },
   "outputs": [],
   "source": [
    "%timeit mdd(ccr)"
   ]
  },
  {
   "cell_type": "code",
   "execution_count": null,
   "metadata": {
    "collapsed": false
   },
   "outputs": [],
   "source": [
    "#%timeit numba_mdd(ccr)"
   ]
  },
  {
   "cell_type": "code",
   "execution_count": null,
   "metadata": {
    "collapsed": false
   },
   "outputs": [],
   "source": [
    "#%timeit max_dd_loop(ccr)"
   ]
  },
  {
   "cell_type": "code",
   "execution_count": null,
   "metadata": {
    "collapsed": false
   },
   "outputs": [],
   "source": [
    "%timeit numa_max_dd_loop(ccr)"
   ]
  }
 ],
 "metadata": {
  "kernelspec": {
   "display_name": "Python 2",
   "language": "python",
   "name": "python2"
  },
  "language_info": {
   "codemirror_mode": {
    "name": "ipython",
    "version": 2
   },
   "file_extension": ".py",
   "mimetype": "text/x-python",
   "name": "python",
   "nbconvert_exporter": "python",
   "pygments_lexer": "ipython2",
   "version": "2.7.12"
  }
 },
 "nbformat": 4,
 "nbformat_minor": 0
}
